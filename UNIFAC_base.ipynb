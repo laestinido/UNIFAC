{
 "cells": [
  {
   "cell_type": "markdown",
   "metadata": {},
   "source": [
    "# UNIFAC Computer Project"
   ]
  },
  {
   "cell_type": "code",
   "execution_count": 1,
   "metadata": {},
   "outputs": [],
   "source": [
    "import numpy as np\n",
    "import ipywidgets as wd"
   ]
  },
  {
   "cell_type": "markdown",
   "metadata": {},
   "source": [
    "### Functions for Solving the Combinatorial Contributions"
   ]
  },
  {
   "cell_type": "code",
   "execution_count": 2,
   "metadata": {},
   "outputs": [],
   "source": [
    "def calc_ln_gamma_c(x, D):\n",
    "    \n",
    "    print('Intermediate Values for ln_\\u03B3_c calculation')\n",
    "    print('-----------------------------------------------')\n",
    "    #let N be the number of species in the mixture\n",
    "    N = np.shape(D)[1] - 4\n",
    "\n",
    "    def calc_r(D):\n",
    "        r = np.zeros(N)\n",
    "        for i in range(N):\n",
    "            r[i] = sum(D[:, 2] * D[:, 4+i])\n",
    "        return r.round(4)\n",
    "\n",
    "    def calc_q(D):\n",
    "        q = np.zeros(N)\n",
    "        for i in range(N):\n",
    "            q[i] = sum(D[:, 3] * D[:, 4+i])\n",
    "        return q.round(4)\n",
    "\n",
    "    def calc_phi(x, r):\n",
    "        phi = np.zeros(N)\n",
    "        for i in range(N):\n",
    "            phi[i] = (r[i] * x[i]) / np.sum(x * r)\n",
    "        return phi.round(4)\n",
    "\n",
    "    def calc_theta(x, q):\n",
    "        theta = np.zeros(N)\n",
    "        for i in range(N):\n",
    "            theta[i] = (q[i] * x[i]) / np.sum(x * q)\n",
    "        return theta.round(4)\n",
    "\n",
    "    def calc_l(r, q):\n",
    "        l = np.zeros(N)\n",
    "        for i in range(N):\n",
    "            l[i] = (5 * (r[i] - q[i]) ) - (r[i]-1)\n",
    "        return l.round(4)\n",
    "    \n",
    "    \n",
    "    r = calc_r(D)\n",
    "    print('r: {}'.format(r))\n",
    "    \n",
    "    q = calc_q(D)\n",
    "    print('q: {}'.format(q))\n",
    "    \n",
    "    phi = calc_phi(x, r)\n",
    "    print('\\u03A6: {}'.format(100*phi))\n",
    "    \n",
    "    theta = calc_theta(x, q)\n",
    "    print('\\u03F4: {}'.format(100*theta))\n",
    "    \n",
    "    l = calc_l(r, q)\n",
    "    print('l: {}'.format(l))\n",
    "    \n",
    "    ln_gamma_c = np.zeros(N)\n",
    "    for i in range(N):\n",
    "        ln_gamma_c[i] = np.log(phi[i] / x[i]) + (5 * q[i] * np.log(theta[i] / phi[i])) + l[i] - ((phi[i] / x[i]) * np.sum(x*l))\n",
    "    \n",
    "    print('\\u03B3_c: {}\\n'.format(ln_gamma_c.round(4)))\n",
    "    return ln_gamma_c.round(4)"
   ]
  },
  {
   "cell_type": "markdown",
   "metadata": {},
   "source": [
    "### Functions for Solving the Residual Contribution"
   ]
  },
  {
   "cell_type": "code",
   "execution_count": 3,
   "metadata": {},
   "outputs": [],
   "source": [
    "def calc_ln_F(x, D, a_mn, T, i):\n",
    "    #use i=0 if relative to the whole mixture\n",
    "    \n",
    "    #for superscripting variables during printing\n",
    "    sup = ['', '\\u00B9', '\\u00B2', '\\u00B3', '\\u2074', '\\u2075']\n",
    "    if i==0:\n",
    "        print('\\nln_\\u0393 ' + sup[i] + ' calculation values')\n",
    "    else:\n",
    "        print('\\nln_\\u0393\\u207D' + sup[i] + '\\u207E calculation values')\n",
    "        \n",
    "    #K is the number of functional groups\n",
    "    K = len(D)\n",
    "    \n",
    "    def calc_psi(a_mn, T):\n",
    "        return np.exp(-a_mn/T).round(4)\n",
    "\n",
    "    def calc_X(x, D, i):\n",
    "        X = np.zeros(K)\n",
    "        for k in range(K):\n",
    "            if i == 0:\n",
    "                X[k] = np.sum(x*D[k, 4:]) / np.sum(x * D[:, 4:])\n",
    "            else:\n",
    "                X[k] = np.sum(D[k, i+3]) / np.sum(D[:, i+3])\n",
    "        return X.round(4)\n",
    "\n",
    "    def calc_theta(X, D):\n",
    "        theta = np.zeros(K)\n",
    "        print(X)\n",
    "        for k in range(K):\n",
    "            theta[k] = (D[k, 3] * X[k]) / np.sum(D[:, 3] * X)\n",
    "        return theta.round(4)\n",
    "\n",
    "    psi = calc_psi(a_mn, T)\n",
    "    #print('\\u03A8: {}\\n'.format(psi))\n",
    "    \n",
    "    X = calc_X(x, D, i)\n",
    "    print('X: {}'.format(X))\n",
    "    \n",
    "    theta = calc_theta(X, D)\n",
    "    print('\\u03F4: {}'.format(theta))\n",
    "    \n",
    "    ln_F = np.zeros(K)\n",
    "    \n",
    "    for k in range(K):\n",
    "        \n",
    "        theta_psi_m = 0\n",
    "        \n",
    "        for m in range(K):\n",
    "            theta_psi_n = 0\n",
    "            for n in range(K):\n",
    "                theta_psi_n += theta[n]*psi[n, m]\n",
    "            theta_psi_m += (theta[m]*psi[k, m]) / theta_psi_n\n",
    "        \n",
    "        ln_F[k] = D[k, 3] * (1 - (np.log(np.sum(theta*psi[:, k]))) - theta_psi_m)\n",
    "        \n",
    "        #removes value of ln_F[k] in the list if k group is not present in molecule i\n",
    "        if i != 0 and D[k, i+3] == 0:\n",
    "            ln_F[k] = 0\n",
    "    \n",
    "    if i==0:\n",
    "        print('ln\\u0393: {}'.format(ln_F.round(6)))\n",
    "    else:\n",
    "        print('ln_\\u0393\\u207D' + sup[i] + '\\u207E: {}'.format(ln_F.round(6)))\n",
    "    \n",
    "    return ln_F.round(6)\n",
    "\n",
    "def calc_ln_gamma_r(x, D, a_mn, T):\n",
    "    \n",
    "    print('Intermediate Values for ln_\\u03B3_r calculation')\n",
    "    print('-----------------------------------------------')\n",
    "    #let N be the number of species in the mixture\n",
    "    N = np.shape(D)[1] - 4\n",
    "    \n",
    "    ln_gamma_r = np.zeros(N)\n",
    "    \n",
    "    ln_F = calc_ln_F(x, D, a_mn, T, 0);\n",
    "    for i in range(N):\n",
    "        ln_F_i = calc_ln_F(x, D, a_mn, T, i+1)\n",
    "        ln_gamma_r[i] = np.sum(D[:, i+4] * (ln_F - ln_F_i) )\n",
    "    \n",
    "    print('\\u03B3_r: {}\\n'.format(ln_gamma_r.round(5)))\n",
    "    return ln_gamma_r.round(5)"
   ]
  },
  {
   "cell_type": "markdown",
   "metadata": {},
   "source": [
    "### Solving for Activity Coefficients from Combinatorial and Residual Group Contributions"
   ]
  },
  {
   "cell_type": "code",
   "execution_count": 4,
   "metadata": {},
   "outputs": [],
   "source": [
    "def calc_gamma(x, D, a_mn, T):\n",
    "    \n",
    "    N = np.shape(D)[1] - 4\n",
    "    ln_gamma_c = calc_ln_gamma_c(x, D)\n",
    "    ln_gamma_r = calc_ln_gamma_r(x, D, a_mn, T)\n",
    "    \n",
    "    gamma = np.exp(ln_gamma_c + ln_gamma_r)\n",
    "    \n",
    "    print('\\nSolved Activity Coefficients')\n",
    "    print('------------------------------')\n",
    "    \n",
    "    sub = ['\\u2081', '\\u2082', '\\u2083', '\\u2084', '\\u2085', '\\u2086', '\\u2087', '\\u2088', '\\u2089']\n",
    "    for i in range(len(gamma)):\n",
    "        print('\\u03B3' + sub[i] + ': {}'.format(gamma[i].round(3)))\n",
    "    return gamma.round(4)"
   ]
  },
  {
   "cell_type": "markdown",
   "metadata": {},
   "source": [
    "### Calculate activity coefficients from input data\n",
    "\n",
    "#### Use the following format:\n",
    "\n",
    "x - column vector containing mole fraction of the components \n",
    "\n",
    "T - temperature \n",
    "\n",
    "D - array containing the parameters for each functional group in the mixture in a row: main_group_number subgroup_number R_k Q_k v_k_1 v_k_2 … v_k_n \n",
    "\n",
    "a_mn – matrix of interaction parameters for all pairs of subgroups"
   ]
  },
  {
   "cell_type": "code",
   "execution_count": 5,
   "metadata": {},
   "outputs": [
    {
     "data": {
      "application/vnd.jupyter.widget-view+json": {
       "model_id": "093ba3560c7c4d29b8945bbeff3572d5",
       "version_major": 2,
       "version_minor": 0
      },
      "text/plain": [
       "Button(description='Solve!', style=ButtonStyle())"
      ]
     },
     "metadata": {},
     "output_type": "display_data"
    },
    {
     "data": {
      "application/vnd.jupyter.widget-view+json": {
       "model_id": "7fb947d7d24b4e6cafb02b512a09b766",
       "version_major": 2,
       "version_minor": 0
      },
      "text/plain": [
       "Output()"
      ]
     },
     "metadata": {},
     "output_type": "display_data"
    }
   ],
   "source": [
    "#test values from the given project specs\n",
    "from IPython.display import display, clear_output\n",
    "import ipywidgets as widgets\n",
    "\n",
    "x = np.array([0.047, 0.953])\n",
    "\n",
    "D = np.array([[1, 1, 0.9011, 0.848, 1, 2], \n",
    "              [9, 18, 1.6724, 1.488, 1, 0], \n",
    "              [1, 2, 0.6744, 0.54, 0, 3]])\n",
    "\n",
    "a_mn = np.array([[0, 476.4, 0], \n",
    "                 [26.76, 0, 26.76], \n",
    "                 [0, 476.4, 0]])\n",
    "T = 307\n",
    "\n",
    "button = widgets.Button(description=\"Solve!\")\n",
    "output = widgets.Output()\n",
    "\n",
    "display(button, output)\n",
    "\n",
    "def on_button_clicked(b):\n",
    "    with output:\n",
    "        clear_output()\n",
    "        calc_gamma(x, D, a_mn, T)\n",
    "\n",
    "button.on_click(on_button_clicked)"
   ]
  }
 ],
 "metadata": {
  "kernelspec": {
   "display_name": "Python 3",
   "language": "python",
   "name": "python3"
  },
  "language_info": {
   "codemirror_mode": {
    "name": "ipython",
    "version": 3
   },
   "file_extension": ".py",
   "mimetype": "text/x-python",
   "name": "python",
   "nbconvert_exporter": "python",
   "pygments_lexer": "ipython3",
   "version": "3.7.6"
  }
 },
 "nbformat": 4,
 "nbformat_minor": 4
}
